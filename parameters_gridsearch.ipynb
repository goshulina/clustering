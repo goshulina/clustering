{
 "cells": [
  {
   "cell_type": "markdown",
   "metadata": {},
   "source": [
    "# Open data"
   ]
  },
  {
   "cell_type": "code",
   "execution_count": 6,
   "metadata": {},
   "outputs": [
    {
     "data": {
      "text/plain": [
       "(57,\n",
       " ['– Дяденька Король, Цветной Капусты',\n",
       "  'хотца, – попросил он, покачиваясь',\n",
       "  'на конце ветки у самого',\n",
       "  'окна королевской спальни. Королева от',\n",
       "  'возмущения упала в обморок, а'])"
      ]
     },
     "execution_count": 6,
     "metadata": {},
     "output_type": "execute_result"
    }
   ],
   "source": [
    "text = \"\"\"\n",
    "– Дяденька Король, Цветной Капусты хотца, – попросил он, покачиваясь на конце ветки у самого окна королевской спальни.\n",
    "Королева от возмущения упала в обморок, а Король успел поднять стражу, которая оцепила морковный дуб, предлагая крольчонку сдаться живым, а в крайнем случае, мертвым. Крольчонок ничего не отвечал, но время от времени с неряшливой меткостью бросал в стражников совершенно несъедобные, однако довольно увесистые морковные желуди.\n",
    "Часть стражников была тяжело ранена, зато остальные пришли в ярость и, уже осыпаемые ядрами морковных желудей, штурмом овладели этой неожиданной цитаделью, как впоследствии писали королевские историки.\n",
    "Стражники облазили все ветки, но крольчонка нигде не оказалось. Тогда они, решив, что он замаскировался в листве дуба, стали поочередно трясти все ветки, растягивая под каждой из них сетку из пампасской травы.\n",
    "Еще несколько стражников было ранено своими же трясунами, и наконец некое легкое тело свалилось в сетку и запуталось в ней.\n",
    "Но, увы, Король, вышедший посмотреть на возмутителя королевства, был еще более удручен. Мало того что, пока он выходил из дворца и приближался к морковному дубу, мимо него пронесли около тридцати тяжелораненых стражников, но, когда он подошел к сетке и ее осторожно распутали, в ней оказалась белка.\n",
    "– Ничего, мы доберемся до его кроличьей шкуры, – сказал Начальник Королевской Охраны и велел осторожно вместе с сеткой внести белку в помещение для допросов провинившихся кроликов.\n",
    "– Еще один такой штурм – и я останусь без армии, – сказал Король, горестно и брезгливо оглядывая место сражения.\n",
    "Дело в том, что в королевстве кроликов Охрана Короля была равнозначна охране королевства и, естественно, считалась армией. Армия была вооружена бамбуковыми пиками, бамбуковыми палками и бамбуковыми трубками, выстреливающими кактусовой иглой. Убойная сила стреляющей трубки была равна среднему попугаю, но не годилась ни против шкуры туземцев, ни тем более против шкуры удавов.\n",
    "\"\"\"\n",
    "X_train = [' '.join(text.split()[i:i+5]) for i in range(0, len(text.split()), 5)]\n",
    "len(X_train), X_train[:5]\n"
   ]
  },
  {
   "cell_type": "markdown",
   "metadata": {},
   "source": [
    "# Define grid search pipeline"
   ]
  },
  {
   "cell_type": "code",
   "execution_count": 10,
   "metadata": {},
   "outputs": [],
   "source": [
    "from sklearn.pipeline import Pipeline\n",
    "from sklearn.feature_extraction.text import TfidfVectorizer\n",
    "from sklearn.cluster import KMeans\n",
    "import math\n",
    "import numpy as np\n",
    "from utils.preprocessor import Preprocessor\n",
    "from sklearn.metrics import silhouette_score\n",
    "\n",
    "def c(n, k):\n",
    "    \"\"\"\n",
    "    k combinations from n\n",
    "    \"\"\"\n",
    "    return math.factorial(n) / (math.factorial(n-k) * math.factorial(k))\n",
    "\n",
    "def clf_search(pipe, clf_name):\n",
    "    for n, i in enumerate(pipe.steps):\n",
    "        param = clf_name.split('__')\n",
    "        if i[0] == param[0]:\n",
    "            return n, param[1]\n",
    "               \n",
    "parameters = { \n",
    "    'tfidf__max_df': (0.9, .95, .8, .85),\n",
    "    'tfidf__min_df': (0., 0.01, 0.05),\n",
    "    'tfidf__max_features': (100, 200, 500),\n",
    "    'tfidf__ngram_range': [(1, 1), (1, 2), (2, 2), (3, 3), (1, 3)],\n",
    "    'kmeans__n_clusters': [20, 15, 10, 5]\n",
    "}\n",
    "\n",
    "pipeline = Pipeline([\n",
    "    ('preproc', Preprocessor(infinitive_mode='no')),\n",
    "    ('tfidf', TfidfVectorizer(analyzer='word', max_features=100)),\n",
    "    ('kmeans', KMeans(random_state=42))\n",
    "])\n",
    "\n",
    "# set default to best. Take only names that take place in parameters dict\n",
    "best_params_set = {clf_search(pipeline, k)[1]:pipeline.steps[clf_search(pipeline, k)[0]][1].get_params()[clf_search(pipeline, k)[1]] for k, v in parameters.items()}\n",
    "\n",
    "# default value for target metric\n",
    "current_s_score = -1\n",
    "\n",
    "# grid_search or beam_search strategy for parameters search\n",
    "# beam_search currently doesnt work properly! It takes all combinations insted of taking one within one param\n",
    "grid_search = True\n",
    "beam_search = False if grid_search else True\n",
    "\n",
    "if grid_search:\n",
    "    steps = sum([len(i) for i in parameters.values()])\n",
    "else:\n",
    "    params_amaount_to_test = sum([len(i) for i in parameters.values()])\n",
    "    steps = sum([c(params_amaount_to_test, i+1) for i in range(params_amaount_to_test)])    \n",
    "step = 1\n"
   ]
  },
  {
   "cell_type": "markdown",
   "metadata": {},
   "source": [
    "# Run gridsearch"
   ]
  },
  {
   "cell_type": "code",
   "execution_count": 11,
   "metadata": {},
   "outputs": [
    {
     "name": "stdout",
     "output_type": "stream",
     "text": [
      "step 1/19\n",
      "silhouette_score 0.06991759545565934 {'max_df': 0.9}\n",
      "step 2/19\n",
      "silhouette_score 0.06991759545565934 {'max_df': 0.95}\n",
      "step 3/19\n",
      "silhouette_score 0.06991759545565934 {'max_df': 0.8}\n",
      "step 4/19\n",
      "silhouette_score 0.06991759545565934 {'max_df': 0.85}\n",
      "step 5/19\n",
      "silhouette_score 0.06991759545565934 {'min_df': 0.0}\n",
      "step 6/19\n",
      "silhouette_score 0.06991759545565934 {'min_df': 0.01}\n",
      "step 7/19\n",
      "silhouette_score 1.0 {'min_df': 0.05}\n",
      "step 8/19\n",
      "silhouette_score 0.06991759545565934 {'max_features': 100}\n",
      "step 9/19\n"
     ]
    },
    {
     "name": "stderr",
     "output_type": "stream",
     "text": [
      "/Users/georgychernousov/miniconda3/envs/snakes/lib/python3.8/site-packages/sklearn/pipeline.py:346: ConvergenceWarning: Number of distinct clusters (5) found smaller than n_clusters (8). Possibly due to duplicate points in X.\n",
      "  self._final_estimator.fit(Xt, y, **fit_params_last_step)\n"
     ]
    },
    {
     "name": "stdout",
     "output_type": "stream",
     "text": [
      "silhouette_score 0.03888343904539529 {'max_features': 200}\n",
      "step 10/19\n",
      "silhouette_score 0.03888343904539529 {'max_features': 500}\n",
      "step 11/19\n",
      "silhouette_score 0.06991759545565934 {'ngram_range': (1, 1)}\n",
      "step 12/19\n",
      "silhouette_score 0.12256026770668725 {'ngram_range': (1, 2)}\n",
      "step 13/19\n",
      "silhouette_score -0.3476626501423776 {'ngram_range': (2, 2)}\n",
      "step 14/19\n",
      "silhouette_score -0.44335476589076284 {'ngram_range': (3, 3)}\n",
      "step 15/19\n",
      "silhouette_score 0.17395619252212438 {'ngram_range': (1, 3)}\n",
      "step 16/19\n",
      "silhouette_score 0.07425629966425072 {'n_clusters': 20}\n",
      "step 17/19\n",
      "silhouette_score 0.0696678207172972 {'n_clusters': 15}\n",
      "step 18/19\n",
      "silhouette_score 0.08807361734091579 {'n_clusters': 10}\n",
      "step 19/19\n",
      "silhouette_score 0.05539593506799961 {'n_clusters': 5}\n",
      "1.0 {'max_df': 0.9, 'min_df': 0.05, 'max_features': 100, 'ngram_range': (1, 1), 'n_clusters': 8}\n"
     ]
    }
   ],
   "source": [
    "for k, v in parameters.items():\n",
    "    for value in v:\n",
    "        print(f'step {step}/{steps}')\n",
    "        clf_id, param_name = clf_search(pipeline, k)\n",
    "        default_params = pipeline.steps[clf_id][1].get_params()\n",
    "        current_param = {param_name: value}\n",
    "        pipeline.steps[clf_id][1].set_params(**current_param)\n",
    "        \n",
    "        # fit\n",
    "        pipeline.fit(X_train)\n",
    "        \n",
    "        # estimate\n",
    "        vectors = np.asarray(pipeline.steps[1][1].transform(X_train).todense())\n",
    "        centroids = pipeline.steps[2][1].cluster_centers_\n",
    "        new_labels = pipeline.steps[2][1].labels_\n",
    "        \n",
    "        # evaluate\n",
    "        s_score = silhouette_score(vectors, \n",
    "                                 new_labels)\n",
    "        if s_score > current_s_score:\n",
    "            current_s_score = s_score\n",
    "            best_params_set[k.split('__')[1]] = value\n",
    "        print('silhouette_score', s_score, current_param)\n",
    "        pipeline.steps[clf_id][1].set_params(**default_params)\n",
    "        step += 1\n",
    "print(current_s_score, best_params_set)"
   ]
  }
 ],
 "metadata": {
  "kernelspec": {
   "display_name": "Python 3",
   "language": "python",
   "name": "python3"
  },
  "language_info": {
   "codemirror_mode": {
    "name": "ipython",
    "version": 3
   },
   "file_extension": ".py",
   "mimetype": "text/x-python",
   "name": "python",
   "nbconvert_exporter": "python",
   "pygments_lexer": "ipython3",
   "version": "3.8.5"
  }
 },
 "nbformat": 4,
 "nbformat_minor": 4
}
